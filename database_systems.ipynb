{
 "cells": [
  {
   "cell_type": "markdown",
   "metadata": {},
   "source": [
    "## 读书笔记：数据库基础系统教程（第3版）（英文）\n",
    "### A First Course in Database Systems\n",
    "\n",
    "### 原书链接\n",
    "* [纸质书购买](https://www.amazon.cn/dp/B001E0H2O2/ref=sr_1_2?ie=UTF8&qid=1549592192&sr=8-2&keywords=%E6%95%B0%E6%8D%AE%E5%BA%93%E5%9F%BA%E7%A1%80%E7%B3%BB%E7%BB%9F%E6%95%99%E7%A8%8B)\n",
    "\n",
    "### 主要内容\n",
    "#### 第一章： 数据库系统世界（The Worlds of Database Systems），略\n",
    "#### 第二章：[关系数据模型（The Relational Model of Data）](#c2)\n",
    "#### 第三章：关系数据库设计理论（Design Theory for Relational Databases）\n",
    "#### 第四章：高级数据库模型（High-Level Database Models）\n",
    "#### 第五章：代数和逻辑查询语言（Algebraic and Logical Query Languages）\n",
    "#### 第六章：数据库语言SQL（The Database Language SQL）\n",
    "#### 第七章：约束与触发器（Constraints and Triggers）\n",
    "#### 第八章：视图与索引（Views and Indexes）\n",
    "#### 第九章：服务器环境中的SQL（SQL in a Server Environment）\n",
    "#### 第十章：关系数据库的进阶主题（Advanced Topics in Relational Databases）\n",
    "#### 第十一章：半结构化数据模型（The Semistructured-Data Model）\n",
    "#### 第十二章：XML的编程语言（Programming Languages for XML）\n",
    "\n",
    "### 笔记说明\n",
    "本读书笔记并不是原书的完整摘要版，如果想要对数据库基础做系统地了解，本人建议直接阅读原书，此读书笔记只能做为参考。\n",
    "\n",
    "### 更新记录\n",
    "* 02/08/2019 - 完成第二章：关系数据模型"
   ]
  },
  {
   "cell_type": "markdown",
   "metadata": {},
   "source": [
    "### 第二章：<a id='c2'></a>关系数据模型（The Relational Model of Data）"
   ]
  },
  {
   "cell_type": "markdown",
   "metadata": {},
   "source": [
    "数据模型包含三部分：\n",
    "* 数据结构（概念性模型）\n",
    "* 对数据的操作\n",
    "* 对数据的限制\n",
    "\n",
    "当前两种重要的数据模型：\n",
    "* 关系模型\n",
    "* 半结构化模型（XML）\n",
    "\n",
    "关系模型的基本概念\n",
    "* 关系（Relation）：二维数据表\n",
    "* 属性（Attributes）：关系的列\n",
    "* 架构（Schema）：关系的名称以及这一关系所有属性的集合\n",
    "* 元祖（Tuple）：关系中的一行记录\n",
    "* 定义域（Domain）：每一属性特有的基础数据类型\n",
    "* 关系的候选码（Keys of Relations）：部分属性的集合。一个关系中的任意两个元祖，其候选码不能相同。\n",
    "\n",
    "数据类型\n",
    "1. 字符串：CHAR(n)，固定长度，若字符串长度小于n，会填充成n个字符；VARCHAR(n)，不固定长度，最多为n个字符。\n",
    "2. 比特串: BIT(n)/BIT VARYING(n)\n",
    "3. 布尔：BOOLEAN，可能的取值为：TRUE，FALSE和UNKNOWN\n",
    "4. 整数：INT/INTEGER/SHORTINT\n",
    "5. 浮点数：FLOAT/REAL/DOUBLE PRECISION/DECIMAL(n,d)/NUMERIC。DECIMAL(6,2)：0123.45。\n",
    "6. 日期：DATE，实质为特定格式的字符串，'1948-05-14'.\n",
    "7. 时间：TIME，实质为特定格式的字符串，'15:00:02.5'.\n",
    "\n",
    "声明/更改关系架构\n",
    "* CREATE TABLE\n",
    "* DROP TABLE\n",
    "* ALTER TABLE (RELATION) ADD (ATTRIBUTE)\n",
    "* ALTER TABLE (RELATION) DROP (ATTRIBUTE)\n",
    "\n",
    "默认值\n",
    "* DEFAULT\n",
    "\n",
    "声明候选码\n",
    "* PRIMARY KEY/UNIQUE，PRIMARY KEY不允许为空（NULL），而UNIQUE允许为空。"
   ]
  },
  {
   "cell_type": "markdown",
   "metadata": {},
   "source": [
    "#### Chapter 3 Design Theory for Relational Databases"
   ]
  },
  {
   "cell_type": "markdown",
   "metadata": {},
   "source": [
    "Functional Dependency: a generalization of the idea of a key for a relation.\n",
    "\n",
    "If two tuples of R agree on all of the attributes $A_1,A_2,...,A_n$, then they must also agree on all of another list of attributes $B_1,B_2,...,B_m$.\n",
    "\n",
    "A set of one or more attributes $\\{A_1,A_2,...,A_n\\}$ is a key for a relation R if:\n",
    "1. Those attributes functionally determine all other attributes of the relation.\n",
    "2. No proper subset of $\\{A_1,A_2,...,A_n\\}$ functionally determines all other attributes of R.\n",
    "\n",
    "#### The Splitting/Combining Rule\n",
    "\n",
    "The splitting and combining rules are for right sides of FD, not left sides.\n",
    "\n",
    "Closure of Attributes\n",
    "\n",
    "Example 3.8\n",
    "\n",
    "AB->C, so AB->ABC. Then BC->D, so AB->ABC->ABCD. Then D->E, so AB->ABC->ABCD->ABCDE. So AB->ABCDE.\n",
    "\n",
    "#### The Transitive Rule\n",
    "\n",
    "The principal kinds of anomalies:\n",
    "* Redundancy\n",
    "* Update Anomalies\n",
    "* Deletion Anomalies\n",
    "\n",
    "To eliminate anomalies: to decompose relations\n",
    "\n",
    "BCNF: Boyce-Codd Normal Form\n",
    "\n",
    "BCNF Decomposition Algorithm"
   ]
  }
 ],
 "metadata": {
  "kernelspec": {
   "display_name": "Python 3",
   "language": "python",
   "name": "python3"
  },
  "language_info": {
   "codemirror_mode": {
    "name": "ipython",
    "version": 3
   },
   "file_extension": ".py",
   "mimetype": "text/x-python",
   "name": "python",
   "nbconvert_exporter": "python",
   "pygments_lexer": "ipython3",
   "version": "3.5.2"
  }
 },
 "nbformat": 4,
 "nbformat_minor": 2
}
